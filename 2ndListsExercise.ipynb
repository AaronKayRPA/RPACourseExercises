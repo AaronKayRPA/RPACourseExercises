{
  "metadata": {
    "kernelspec": {
      "name": "python",
      "display_name": "Python (Pyodide)",
      "language": "python"
    },
    "language_info": {
      "codemirror_mode": {
        "name": "python",
        "version": 3
      },
      "file_extension": ".py",
      "mimetype": "text/x-python",
      "name": "python",
      "nbconvert_exporter": "python",
      "pygments_lexer": "ipython3",
      "version": "3.8"
    }
  },
  "nbformat_minor": 4,
  "nbformat": 4,
  "cells": [
    {
      "cell_type": "code",
      "source": "x = object()\ny = object()\n\nx_list = [x] * 10\ny_list = [y] * 10\nbig_list = x_list + y_list\n\nprint(\"x_list contains %d objects\" % len(x_list))\nprint(\"y_list contains %d objects\" % len(y_list))\nprint(\"big_list contains %d objects\" % len(big_list))\n\nif x_list.count(x) == 10 and y_list.count(y) == 10:\n    print(\"Almost there...\")\nif big_list.count(x) == 10 and big_list.count(y) == 10:\n    print(\"Great!\")",
      "metadata": {
        "trusted": true
      },
      "outputs": [
        {
          "name": "stdout",
          "text": "x_list contains 10 objects\ny_list contains 10 objects\nbig_list contains 20 objects\nAlmost there...\nGreat!\n",
          "output_type": "stream"
        }
      ],
      "execution_count": 4
    },
    {
      "cell_type": "code",
      "source": "",
      "metadata": {
        "trusted": true
      },
      "outputs": [],
      "execution_count": null
    }
  ]
}