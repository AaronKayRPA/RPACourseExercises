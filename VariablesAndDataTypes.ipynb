{
  "metadata": {
    "kernelspec": {
      "name": "python",
      "display_name": "Python (Pyodide)",
      "language": "python"
    },
    "language_info": {
      "codemirror_mode": {
        "name": "python",
        "version": 3
      },
      "file_extension": ".py",
      "mimetype": "text/x-python",
      "name": "python",
      "nbconvert_exporter": "python",
      "pygments_lexer": "ipython3",
      "version": "3.8"
    }
  },
  "nbformat_minor": 4,
  "nbformat": 4,
  "cells": [
    {
      "cell_type": "code",
      "source": "mystring = \"hello\"\nmyfloat = 10.0\nmyint = 20\n\nif mystring == \"hello\":\n    print(\"String: %s\" % mystring)\nif isinstance(myfloat, float) and myfloat == 10.0:\n    print(\"Float: %f\" % myfloat)\nif isinstance(myint, int) and myint == 20:\n    print(\"Integer: %d\" % myint)",
      "metadata": {
        "trusted": true
      },
      "outputs": [
        {
          "name": "stdout",
          "text": "String: hello\nFloat: 10.000000\nInteger: 20\n",
          "output_type": "stream"
        }
      ],
      "execution_count": 1
    },
    {
      "cell_type": "code",
      "source": "",
      "metadata": {
        "trusted": true
      },
      "outputs": [],
      "execution_count": null
    }
  ]
}