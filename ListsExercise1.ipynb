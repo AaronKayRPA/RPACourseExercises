{
  "metadata": {
    "kernelspec": {
      "name": "python",
      "display_name": "Python (Pyodide)",
      "language": "python"
    },
    "language_info": {
      "codemirror_mode": {
        "name": "python",
        "version": 3
      },
      "file_extension": ".py",
      "mimetype": "text/x-python",
      "name": "python",
      "nbconvert_exporter": "python",
      "pygments_lexer": "ipython3",
      "version": "3.8"
    }
  },
  "nbformat_minor": 4,
  "nbformat": 4,
  "cells": [
    {
      "cell_type": "code",
      "source": "numbers = []\nstrings = []\nnames = [\"John\", \"Eric\", \"Jessica\"]\n\nsecond_name = (names[1])\nnumbers.append(1)\nnumbers.append(2)\nnumbers.append(3)\nstrings.append(\"Hello\")\nstrings.append(\"World\")\n\nprint(numbers)\nprint(strings)\nprint(\"The second name on the names list is %s\" %second_name)",
      "metadata": {
        "trusted": true
      },
      "outputs": [
        {
          "name": "stdout",
          "text": "[1, 2, 3]\n['Hello', 'World']\nThe second name on the names list is Eric\n",
          "output_type": "stream"
        }
      ],
      "execution_count": 1
    },
    {
      "cell_type": "code",
      "source": "",
      "metadata": {
        "trusted": true
      },
      "outputs": [],
      "execution_count": null
    }
  ]
}